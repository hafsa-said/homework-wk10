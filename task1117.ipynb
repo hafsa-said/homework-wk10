{
 "cells": [
  {
   "cell_type": "code",
   "execution_count": 2,
   "id": "22f3f074",
   "metadata": {},
   "outputs": [],
   "source": [
    "import numpy as np\n",
    "import pandas as pd"
   ]
  },
  {
   "cell_type": "code",
   "execution_count": 3,
   "id": "8f9f0b65",
   "metadata": {},
   "outputs": [],
   "source": [
    "#function to calculate dot product manually\n",
    "#dot_product= np.dot(a, b) #x1.y1+x2.y2\n",
    "#cross_product= np.cross(p, q)"
   ]
  },
  {
   "cell_type": "code",
   "execution_count": 4,
   "id": "e8a12d60",
   "metadata": {},
   "outputs": [
    {
     "name": "stdout",
     "output_type": "stream",
     "text": [
      "All values must be number\n"
     ]
    }
   ],
   "source": [
    "\n",
    "def dot_product(a,b):\n",
    "    result= 0\n",
    "    try:\n",
    "        for letter in range(len(a)) and range(len(b)): #to include errors in both a and b\n",
    "            result = result+(a(letter)*b(letter))\n",
    "    except IndexError: #so we can know different kinds of errors\n",
    "        print(\"Arrays are different size\")\n",
    "    except TypeError:\n",
    "        print('All values must be number')\n",
    "    except Exception as e: #to print all the different results\n",
    "        return e\n",
    "    else:\n",
    "        return result\n",
    "\n",
    "dot_product([1,2], ['b',5,7])           "
   ]
  },
  {
   "cell_type": "markdown",
   "id": "953287b6",
   "metadata": {},
   "source": [
    "#Q.2.\n",
    "One hot Encoding"
   ]
  },
  {
   "cell_type": "markdown",
   "id": "aa9b1a24",
   "metadata": {},
   "source": [
    "One hot encoding is a technique used to convert categorical data to numerical data. This method is mostly used when deep learning techniques are to be applied to​ sequential classification problems. One hot encoding allows the representation of data to be more expressive.\n"
   ]
  },
  {
   "cell_type": "code",
   "execution_count": 5,
   "id": "65c29eed",
   "metadata": {},
   "outputs": [],
   "source": [
    "belize_listings = \"belize_airbnb_listings.csv\"\n",
    "belize_df = pd.read_csv(belize_listings)"
   ]
  },
  {
   "cell_type": "code",
   "execution_count": 6,
   "id": "50fc39f2",
   "metadata": {},
   "outputs": [
    {
     "data": {
      "text/plain": [
       "array(['Belize', 'Stann Creek', 'Toledo', 'Cayo', 'Corozal',\n",
       "       'Orange Walk'], dtype=object)"
      ]
     },
     "execution_count": 6,
     "metadata": {},
     "output_type": "execute_result"
    }
   ],
   "source": [
    "data= belize_df['neighbourhood_group'].unique()\n",
    "data"
   ]
  },
  {
   "cell_type": "code",
   "execution_count": 7,
   "id": "66c63464",
   "metadata": {},
   "outputs": [
    {
     "name": "stdout",
     "output_type": "stream",
     "text": [
      "[[1, 0, 0, 0, 0, 0], [0, 1, 0, 0, 0, 0], [0, 0, 1, 0, 0, 0], [0, 0, 0, 1, 0, 0], [0, 0, 0, 0, 1, 0], [0, 0, 0, 0, 0, 1]]\n"
     ]
    }
   ],
   "source": [
    "#map to an integer\n",
    "mapping= {}\n",
    "for x in range(len(data)):\n",
    "    mapping[data[x]]= x\n",
    "one_hot_encode=[]\n",
    "for n in data:\n",
    "    arr= list(np.zeros(len(data), dtype= int))\n",
    "    arr[mapping[n]]= 1\n",
    "    one_hot_encode.append(arr)\n",
    "print(one_hot_encode)"
   ]
  }
 ],
 "metadata": {
  "kernelspec": {
   "display_name": "Python 3 (ipykernel)",
   "language": "python",
   "name": "python3"
  },
  "language_info": {
   "codemirror_mode": {
    "name": "ipython",
    "version": 3
   },
   "file_extension": ".py",
   "mimetype": "text/x-python",
   "name": "python",
   "nbconvert_exporter": "python",
   "pygments_lexer": "ipython3",
   "version": "3.9.7"
  }
 },
 "nbformat": 4,
 "nbformat_minor": 5
}
